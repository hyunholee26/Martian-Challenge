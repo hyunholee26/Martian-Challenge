{
  "nbformat": 4,
  "nbformat_minor": 0,
  "metadata": {
    "colab": {
      "name": "Martian Challenge Tutorial.ipynb",
      "provenance": [],
      "collapsed_sections": [],
      "authorship_tag": "ABX9TyOR/7pVXZaiOfHnU9OgqvKT",
      "include_colab_link": true
    },
    "kernelspec": {
      "name": "python3",
      "display_name": "Python 3"
    },
    "language_info": {
      "name": "python"
    },
    "accelerator": "GPU"
  },
  "cells": [
    {
      "cell_type": "markdown",
      "metadata": {
        "id": "view-in-github",
        "colab_type": "text"
      },
      "source": [
        "<a href=\"https://colab.research.google.com/github/hyunholee26/Martian-Challenge/blob/main/Martian_Challenge_Tutorial.ipynb\" target=\"_parent\"><img src=\"https://colab.research.google.com/assets/colab-badge.svg\" alt=\"Open In Colab\"/></a>"
      ]
    },
    {
      "cell_type": "code",
      "execution_count": null,
      "metadata": {
        "id": "4K60rBu87gRZ"
      },
      "outputs": [],
      "source": [
        "import os, sys\n",
        "from google.colab import drive\n",
        "drive.mount('/content/drive')\n",
        "\n",
        "my_path = '/content/library'\n",
        "os.symlink('/content/drive/My Drive/My Drive/pre-installed-library/', my_path)\n",
        "sys.path.insert(0, my_path)"
      ]
    },
    {
      "cell_type": "code",
      "source": [
        "import torch\n",
        "import cv2\n",
        "import json\n",
        "import math\n",
        "import copy\n",
        "import time\n",
        "import random\n",
        "import matplotlib.pyplot as plt\n",
        "import matplotlib.patches as patches\n",
        "import torch.optim as optim\n",
        "from torchvision import models, transforms\n",
        "from torch.utils.data import Dataset, DataLoader"
      ],
      "metadata": {
        "id": "op9OrXt77kiP"
      },
      "execution_count": 5,
      "outputs": []
    },
    {
      "cell_type": "code",
      "source": [
        "# install pycocotools\n",
        "!pip install -U pycocotools\n",
        "\n",
        "# download the demo dataset. \n",
        "!wget -O geoai_demo.zip https://www.dropbox.com/s/zmmonm9ijrm4u9y/geoai_demo.zip?dl=1\n",
        "\n",
        "# extract it to the current folder and remove the zip file\n",
        "!unzip -qo geoai_demo.zip && rm geoai_demo.zip\n",
        "\n",
        "# list files and directories\n",
        "!ls ./demo/\n",
        "\n",
        "!pwd\n",
        "%cd demo\n",
        "!pwd"
      ],
      "metadata": {
        "colab": {
          "base_uri": "https://localhost:8080/"
        },
        "id": "j-HXZHez7x1y",
        "outputId": "866447d9-2731-45c3-c82e-524fad4d22b9"
      },
      "execution_count": 6,
      "outputs": [
        {
          "output_type": "stream",
          "name": "stdout",
          "text": [
            "Looking in indexes: https://pypi.org/simple, https://us-python.pkg.dev/colab-wheels/public/simple/\n",
            "Requirement already satisfied: pycocotools in /usr/local/lib/python3.7/dist-packages (2.0.4)\n",
            "Requirement already satisfied: matplotlib>=2.1.0 in /usr/local/lib/python3.7/dist-packages (from pycocotools) (3.2.2)\n",
            "Requirement already satisfied: numpy in /usr/local/lib/python3.7/dist-packages (from pycocotools) (1.21.6)\n",
            "Requirement already satisfied: python-dateutil>=2.1 in /usr/local/lib/python3.7/dist-packages (from matplotlib>=2.1.0->pycocotools) (2.8.2)\n",
            "Requirement already satisfied: pyparsing!=2.0.4,!=2.1.2,!=2.1.6,>=2.0.1 in /usr/local/lib/python3.7/dist-packages (from matplotlib>=2.1.0->pycocotools) (3.0.9)\n",
            "Requirement already satisfied: kiwisolver>=1.0.1 in /usr/local/lib/python3.7/dist-packages (from matplotlib>=2.1.0->pycocotools) (1.4.2)\n",
            "Requirement already satisfied: cycler>=0.10 in /usr/local/lib/python3.7/dist-packages (from matplotlib>=2.1.0->pycocotools) (0.11.0)\n",
            "Requirement already satisfied: typing-extensions in /usr/local/lib/python3.7/dist-packages (from kiwisolver>=1.0.1->matplotlib>=2.1.0->pycocotools) (4.2.0)\n",
            "Requirement already satisfied: six>=1.5 in /usr/local/lib/python3.7/dist-packages (from python-dateutil>=2.1->matplotlib>=2.1.0->pycocotools) (1.15.0)\n",
            "--2022-06-12 13:40:21--  https://www.dropbox.com/s/zmmonm9ijrm4u9y/geoai_demo.zip?dl=1\n",
            "Resolving www.dropbox.com (www.dropbox.com)... 162.125.6.18, 2620:100:6019:18::a27d:412\n",
            "Connecting to www.dropbox.com (www.dropbox.com)|162.125.6.18|:443... connected.\n",
            "HTTP request sent, awaiting response... 301 Moved Permanently\n",
            "Location: /s/dl/zmmonm9ijrm4u9y/geoai_demo.zip [following]\n",
            "--2022-06-12 13:40:22--  https://www.dropbox.com/s/dl/zmmonm9ijrm4u9y/geoai_demo.zip\n",
            "Reusing existing connection to www.dropbox.com:443.\n",
            "HTTP request sent, awaiting response... 302 Found\n",
            "Location: https://uc177163a58618b9673f8ac36ab6.dl.dropboxusercontent.com/cd/0/get/BnE5gSWIy5u5APF2N8wBGWaip3IW106nsQlyE3pNKXCEqD2UPYaXTJWjDFgJHKr3Ra8QzUZQm2fWFDgGKZg7DCTl4mzZ4Sdiv2ekmKltGhw-YI4ikkx8pyYla2hWKLqz-xypLMs1UlzXfSORaIsVnmNmG16FDrTiQf0bor71b6qRdg/file?dl=1# [following]\n",
            "--2022-06-12 13:40:22--  https://uc177163a58618b9673f8ac36ab6.dl.dropboxusercontent.com/cd/0/get/BnE5gSWIy5u5APF2N8wBGWaip3IW106nsQlyE3pNKXCEqD2UPYaXTJWjDFgJHKr3Ra8QzUZQm2fWFDgGKZg7DCTl4mzZ4Sdiv2ekmKltGhw-YI4ikkx8pyYla2hWKLqz-xypLMs1UlzXfSORaIsVnmNmG16FDrTiQf0bor71b6qRdg/file?dl=1\n",
            "Resolving uc177163a58618b9673f8ac36ab6.dl.dropboxusercontent.com (uc177163a58618b9673f8ac36ab6.dl.dropboxusercontent.com)... 162.125.6.15, 2620:100:601c:15::a27d:60f\n",
            "Connecting to uc177163a58618b9673f8ac36ab6.dl.dropboxusercontent.com (uc177163a58618b9673f8ac36ab6.dl.dropboxusercontent.com)|162.125.6.15|:443... connected.\n",
            "HTTP request sent, awaiting response... 200 OK\n",
            "Length: 24835392 (24M) [application/binary]\n",
            "Saving to: ‘geoai_demo.zip’\n",
            "\n",
            "geoai_demo.zip      100%[===================>]  23.68M  96.8MB/s    in 0.2s    \n",
            "\n",
            "2022-06-12 13:40:23 (96.8 MB/s) - ‘geoai_demo.zip’ saved [24835392/24835392]\n",
            "\n",
            "demo\t     gt_eval.json    ids_demo.json  __pycache__\n",
            "evaluate.py  gt_public.json  images\n",
            "/content\n",
            "/content/demo\n",
            "/content/demo\n"
          ]
        }
      ]
    },
    {
      "cell_type": "code",
      "source": [
        "# function to show one image and its crater labels\n",
        "def imshow(image, labels):\n",
        "  fig, ax = plt.subplots()\n",
        "  ax.imshow(image, cmap='gray')\n",
        "\n",
        "  for box in labels:\n",
        "    # box format: [xmin, ymin, width, height]\n",
        "    rect = patches.Rectangle((box[0], box[1]), box[2], box[3], \n",
        "                             linewidth=1, edgecolor='r', facecolor='none')\n",
        "    ax.add_patch(rect)\n",
        "  plt.axis('off')\n",
        "  plt.show()\n",
        "\n",
        "# load image IDs from ids_demo.json\n",
        "image_ids = json.load(open(\"./ids_demo.json\"))\n",
        "print(image_ids)\n",
        "\n",
        "# get IDs of the training set\n",
        "train_set_ids = image_ids[\"train\"]\n",
        "print(train_set_ids)\n",
        "\n",
        "# load one sample image\n",
        "sample_image_id = train_set_ids[random.randrange(len(train_set_ids))]\n",
        "sample_image = cv2.imread(\"./images/{}.png\".format(sample_image_id))\n",
        "\n",
        "# load crater labels from gt_public.json\n",
        "labels = json.load(open(\"./gt_public.json\"))\n",
        "\n",
        "# load the label for the sample image \n",
        "sample_label = labels[sample_image_id]\n",
        "print(\"image id: {}\".format(sample_image_id))\n",
        "imshow(sample_image, sample_label)"
      ],
      "metadata": {
        "colab": {
          "base_uri": "https://localhost:8080/",
          "height": 322
        },
        "id": "y_x_1Y188EOo",
        "outputId": "76205683-a723-4891-c172-92aa0d0e09fe"
      },
      "execution_count": 7,
      "outputs": [
        {
          "output_type": "stream",
          "name": "stdout",
          "text": [
            "{'train': ['101398', '018197', '036424', '046139', '055557', '039019', '054921', '029306', '040505', '059359', '041615', '020869', '046308', '053302', '034169', '015420', '054248', '047588', '072908', '035022', '010851', '102002', '087819', '013947', '036086', '057256', '085792', '040800', '002737', '000243', '070652', '013517', '091555', '089559', '086485', '052741', '087377', '007803', '095084', '074699', '033233', '068584', '012702', '072390', '073172', '011461', '008149', '097663', '010789', '058912', '101414', '018102', '023941', '071570', '038160', '077788', '040767', '036618', '058242', '088954', '082852', '038310', '014934', '058620', '050481', '056414', '029034', '099956', '050505', '022230', '101124', '010535', '088627', '025906', '032088', '094096', '034425', '031133', '024938', '011118', '049459', '025684', '081903', '052280', '035777', '088139', '021100', '051940', '031985', '016696', '054833', '051282', '046641', '059494', '034843', '075594', '073789', '022438', '041516', '072501', '069192', '001635', '085034', '049644', '000018', '098889', '076778', '062615', '053758', '099070', '030709', '095898', '023565', '064538', '084537', '062422', '023138', '015510', '078252', '097439', '078508', '057864', '064061', '057582', '010859', '093545', '086368', '019621', '085111', '004227', '089311', '079675', '059988', '034354', '020113', '063324', '086855', '056977', '060955', '031280', '012522', '012904', '081236', '087873', '051310', '064531', '040248', '056744', '047425', '053318', '077776', '092917', '040396', '091042', '030603', '073979', '099971', '019255', '044663', '050658', '054159', '084925', '028008', '055246', '050139', '074955', '064856', '060397', '079624', '035949', '080230', '063426', '002742', '007393', '016916', '004178', '015405', '089098', '020000', '034199', '016209', '040342', '001626', '092069', '095774', '074676', '005966', '023308', '079009', '075815', '052524', '101333', '009666', '039062', '097539', '034039', '033048', '043205', '083399', '036532'], 'test': ['050372', '050833', '019766', '027233', '024607', '005072', '027897', '027319', '039437', '036092', '093627', '027187', '097389', '087554', '031360', '089775', '023237', '035643', '049864', '010432', '012807', '064167', '043459', '043420', '013444', '068881', '013944', '086678', '028097', '026498', '057545', '006039', '000278', '048992', '025435', '073676', '066581', '038833', '069991', '094771', '080538', '017495', '072482', '011540', '082826', '099528', '101687', '041356', '101597', '033363', '035162', '081228', '062005', '014471', '050079', '041576', '004821', '043325', '034542', '041719', '095664', '022045', '021430', '011117', '003682', '096639', '067622', '047093', '100923', '102109', '019193', '024185', '027439', '037070', '018837', '085568', '011996', '011788', '077674', '051695', '051016', '041243', '016330', '051962', '021914', '046316', '000280', '023109', '050060', '026253', '055073', '026984', '053094', '026623', '004933', '075996', '023154', '053636', '000572', '006993', '007552', '070222', '089867', '091892', '061439', '007855', '015191', '056395', '050598', '035568', '025917', '053127', '050722', '004799', '037652', '025224', '017631', '020962', '100666', '082658', '097243', '043315', '050677', '048158', '009136', '048818', '051418', '082117', '013528', '080975', '015102', '010180', '088089', '029222', '046777', '000591', '089753', '096388', '032313', '088075', '002092', '075338', '085903', '083262', '046760', '002948', '086981', '049043', '037607', '090626', '059191', '010359', '023396', '102435', '022772', '009399', '046168', '037229', '085789', '029144', '043121', '096413', '015705', '022489', '023413', '054356', '057045', '047862', '065997', '086053', '087219', '059545', '058530', '066987', '101419', '101874', '051375', '021370', '052615', '057680', '094891', '080174', '078258', '024641', '067460', '006498', '097192', '004046', '008496', '078976', '046326', '057445', '028460', '101350', '039707', '027495', '077691', '091223', '064277', '058448'], 'val': ['075667', '012842', '051116', '010361', '054904', '088334', '032559', '042524', '037509', '080305', '079513', '072526', '010292', '007358', '039137', '013480', '072456', '084345', '010961', '017548', '041074', '085012', '000020', '015198', '016253', '056585', '005834', '088171', '014319', '068068', '004627', '008050', '019097', '050674', '037794', '017442', '078349', '040728', '091750', '018631', '002640', '020049', '008500', '077584', '021357', '008199', '007526', '032364', '082775', '064977', '080618', '008085', '061648', '071864', '065109', '018364', '096698', '093247', '068634', '054032', '100995', '011148', '031485', '041759', '035737', '082377', '056505', '084810', '099692', '041492', '056900', '078274', '023609', '052188', '036561', '060007', '067322', '025736', '002724', '017231', '001110', '009257', '052078', '047396', '013950', '084561', '050837', '024043', '093510', '032619', '052736', '008953', '004451', '098689', '066059', '003163', '078624', '074958', '100238', '084826']}\n",
            "['101398', '018197', '036424', '046139', '055557', '039019', '054921', '029306', '040505', '059359', '041615', '020869', '046308', '053302', '034169', '015420', '054248', '047588', '072908', '035022', '010851', '102002', '087819', '013947', '036086', '057256', '085792', '040800', '002737', '000243', '070652', '013517', '091555', '089559', '086485', '052741', '087377', '007803', '095084', '074699', '033233', '068584', '012702', '072390', '073172', '011461', '008149', '097663', '010789', '058912', '101414', '018102', '023941', '071570', '038160', '077788', '040767', '036618', '058242', '088954', '082852', '038310', '014934', '058620', '050481', '056414', '029034', '099956', '050505', '022230', '101124', '010535', '088627', '025906', '032088', '094096', '034425', '031133', '024938', '011118', '049459', '025684', '081903', '052280', '035777', '088139', '021100', '051940', '031985', '016696', '054833', '051282', '046641', '059494', '034843', '075594', '073789', '022438', '041516', '072501', '069192', '001635', '085034', '049644', '000018', '098889', '076778', '062615', '053758', '099070', '030709', '095898', '023565', '064538', '084537', '062422', '023138', '015510', '078252', '097439', '078508', '057864', '064061', '057582', '010859', '093545', '086368', '019621', '085111', '004227', '089311', '079675', '059988', '034354', '020113', '063324', '086855', '056977', '060955', '031280', '012522', '012904', '081236', '087873', '051310', '064531', '040248', '056744', '047425', '053318', '077776', '092917', '040396', '091042', '030603', '073979', '099971', '019255', '044663', '050658', '054159', '084925', '028008', '055246', '050139', '074955', '064856', '060397', '079624', '035949', '080230', '063426', '002742', '007393', '016916', '004178', '015405', '089098', '020000', '034199', '016209', '040342', '001626', '092069', '095774', '074676', '005966', '023308', '079009', '075815', '052524', '101333', '009666', '039062', '097539', '034039', '033048', '043205', '083399', '036532']\n",
            "image id: 072501\n"
          ]
        },
        {
          "output_type": "display_data",
          "data": {
            "text/plain": [
              "<Figure size 432x288 with 1 Axes>"
            ],
            "image/png": "[encoded data removed]"
          },
          "metadata": {
            "needs_background": "light"
          }
        }
      ]
    },
    {
      "cell_type": "code",
      "source": [
        "def get_object_detection_model(num_classes):\n",
        "  model = models.detection.retinanet_resnet50_fpn(num_classes=num_classes)\n",
        "  return model"
      ],
      "metadata": {
        "id": "IS0mWtcl8uxJ"
      },
      "execution_count": 8,
      "outputs": []
    },
    {
      "cell_type": "code",
      "source": [
        "class CraterDataset(Dataset):\n",
        "  def __init__(self, phase, data_transforms):\n",
        "    self.transform = data_transforms\n",
        "    # load image IDs of training set or validation set\n",
        "    self.img_ids = json.load(open('./ids_demo.json'))[phase]\n",
        "    # load all crater bounding boxes\n",
        "    self.crater_boxes = json.load(open('./gt_public.json'))\n",
        "\n",
        "\n",
        "  def __getitem__(self, idx): \n",
        "    img_id = self.img_ids[idx]\n",
        "    # load the image\n",
        "    img = cv2.imread(\"./images/{}.png\".format(img_id)) \n",
        "    # get bounding boxes and transfer it \n",
        "    # from [xmin, ymin, width, height] to [xmin, ymin, xmax, ymax] \n",
        "    crater_boxes = self.crater_boxes[img_id]\n",
        "    num_craters = len(crater_boxes)\n",
        "    boxes = []\n",
        "    for box in crater_boxes:\n",
        "        xmin = box[0]\n",
        "        xmax = box[0] + box[2]\n",
        "        ymin = box[1]\n",
        "        ymax = box[1] + box[3]\n",
        "        boxes.append([xmin, ymin, xmax, ymax])\n",
        "\n",
        "    # tranfser to requested data type\n",
        "    boxes = torch.as_tensor(boxes, dtype=torch.float32)\n",
        "    # the class of all boxes is the same. 0: background 1: crater\n",
        "    labels = torch.ones((num_craters,), dtype=torch.int64)\n",
        "    # wrap up as a dictionary \n",
        "    target = {}\n",
        "    target[\"boxes\"] = boxes\n",
        "    target[\"labels\"] = labels\n",
        "    # data transform \n",
        "    if self.transform is not None:\n",
        "        img = self.transform(img)\n",
        "\n",
        "    return img, target\n",
        "    \n",
        "  \n",
        "  def __len__(self):\n",
        "    return len(self.img_ids)"
      ],
      "metadata": {
        "id": "-0R80ZtJ8u0G"
      },
      "execution_count": 9,
      "outputs": []
    },
    {
      "cell_type": "code",
      "source": [
        "torch.cuda.get_device_name(0)"
      ],
      "metadata": {
        "colab": {
          "base_uri": "https://localhost:8080/",
          "height": 35
        },
        "id": "YA59pG-Z-pft",
        "outputId": "fdf6acc9-7367-4ec4-ff3b-1f27b775b6c4"
      },
      "execution_count": 10,
      "outputs": [
        {
          "output_type": "execute_result",
          "data": {
            "text/plain": [
              "'Tesla T4'"
            ],
            "application/vnd.google.colaboratory.intrinsic+json": {
              "type": "string"
            }
          },
          "metadata": {},
          "execution_count": 10
        }
      ]
    },
    {
      "cell_type": "code",
      "source": [
        "def train_model(model, optimizer, dataset, data_loader, num_epochs=10):\n",
        "  since = time.time()\n",
        "  # check if gpu is available\n",
        "  device = torch.device('cuda') if torch.cuda.is_available() else torch.device('cpu')\n",
        "  print('training with gpu...' if torch.cuda.is_available() else 'trining with cpu...')\n",
        "  # store best model weights\n",
        "  best_model_wts = copy.deepcopy(model.state_dict())\n",
        "  best_loss = 100000\n",
        "  model.train()\n",
        "\n",
        "  for epoch in range(num_epochs):\n",
        "    print('Epoch {}/{}'.format(epoch, num_epochs - 1))\n",
        "    print('-' * 10)\n",
        "\n",
        "    for phase in ['train', 'val']:\n",
        "      running_loss = 0.0\n",
        "\n",
        "      # iterate over data\n",
        "      for images, targets in data_loader[phase]:\n",
        "        # transfer data into requested input format of RetinaNet\n",
        "        # transfer data to gpu if available\n",
        "        images = list(image.to(device) for image in images)\n",
        "        targets = [{k: v.to(device) for k, v in t.items()} for t in targets]\n",
        "        # loss calculation\n",
        "        losses = model(images, targets)\n",
        "        losses = sum(loss for loss in losses.values())\n",
        "\n",
        "        # update the model only in the training phase\n",
        "        # gradient back propagation + model parameters update\n",
        "        if phase == 'train':\n",
        "          optimizer.zero_grad()\n",
        "          losses.backward()\n",
        "          optimizer.step()\n",
        "        # accumulate loss values\n",
        "        running_loss += losses.item() * len(images)\n",
        "      \n",
        "      # average loss   \n",
        "      epoch_loss = running_loss / len(dataset[phase])\n",
        "      print('{} loss: {:.4f}'.format(phase, epoch_loss))\n",
        "\n",
        "      # select the best model in the validation phase\n",
        "      # copy the model weights if loss is smaller\n",
        "      if phase == 'val' and epoch_loss < best_loss:\n",
        "        best_loss = epoch_loss\n",
        "        best_model_wts = copy.deepcopy(model.state_dict())\n",
        "          \n",
        "    print()\n",
        "\n",
        "  time_elapsed = time.time() - since\n",
        "  print('Training complete in {:.0f}m {:.0f}s'.format(\n",
        "    time_elapsed // 60, time_elapsed % 60))\n",
        "  print('Best validation loss: {:4f}'.format(best_loss))\n",
        "  # load best model weights\n",
        "  model.load_state_dict(best_model_wts)\n",
        "  return model"
      ],
      "metadata": {
        "id": "3eP2dqiD8u29"
      },
      "execution_count": 11,
      "outputs": []
    },
    {
      "cell_type": "code",
      "source": [
        "# initialize a model with numer of classes = 2\n",
        "model = get_object_detection_model(2)\n",
        "\n",
        "# define data tranformation function\n",
        "data_transforms = transforms.Compose([transforms.ToTensor()])\n",
        "\n",
        "# define dataset and dataloader for training for debug set\n",
        "dataset = {x: CraterDataset(x, data_transforms) for x in ['train', 'val']}\n",
        "data_loader = {x: DataLoader(dataset[x], batch_size=8, \n",
        "                             shuffle=True, collate_fn=lambda x: tuple(zip(*x)))\n",
        "for x in ['train', 'val']}\n",
        "\n",
        "# transfer the model to gpu if available\n",
        "device = torch.device(\"cuda:0\" if torch.cuda.is_available() else \"cpu\")\n",
        "model = model.to(device)\n",
        "\n",
        "# define optimization algorithm\n",
        "optimizer = optim.SGD(model.parameters(), lr=0.001, momentum=0.9)\n",
        "\n",
        "# train model\n",
        "model = train_model(model, optimizer, dataset, data_loader, num_epochs=20)"
      ],
      "metadata": {
        "colab": {
          "base_uri": "https://localhost:8080/"
        },
        "id": "xeZyxHWb9AVX",
        "outputId": "3ad15df9-4fe0-4e3a-e544-a63cba6d9699"
      },
      "execution_count": 12,
      "outputs": [
        {
          "output_type": "stream",
          "name": "stdout",
          "text": [
            "training with gpu...\n",
            "Epoch 0/19\n",
            "----------\n",
            "train loss: 1.8426\n",
            "val loss: 1.8049\n",
            "\n",
            "Epoch 1/19\n",
            "----------\n",
            "train loss: 1.7081\n",
            "val loss: 1.6062\n",
            "\n",
            "Epoch 2/19\n",
            "----------\n",
            "train loss: 1.5865\n",
            "val loss: 1.6320\n",
            "\n",
            "Epoch 3/19\n",
            "----------\n",
            "train loss: 1.5979\n",
            "val loss: 1.4766\n",
            "\n",
            "Epoch 4/19\n",
            "----------\n",
            "train loss: 1.6061\n",
            "val loss: 1.5060\n",
            "\n",
            "Epoch 5/19\n",
            "----------\n",
            "train loss: 1.7189\n",
            "val loss: 1.6471\n",
            "\n",
            "Epoch 6/19\n",
            "----------\n",
            "train loss: 1.6350\n",
            "val loss: 1.5954\n",
            "\n",
            "Epoch 7/19\n",
            "----------\n",
            "train loss: 1.5279\n",
            "val loss: 1.4609\n",
            "\n",
            "Epoch 8/19\n",
            "----------\n",
            "train loss: 1.4916\n",
            "val loss: 1.7038\n",
            "\n",
            "Epoch 9/19\n",
            "----------\n",
            "train loss: 1.6589\n",
            "val loss: 1.6251\n",
            "\n",
            "Epoch 10/19\n",
            "----------\n",
            "train loss: 1.6297\n",
            "val loss: 1.6169\n",
            "\n",
            "Epoch 11/19\n",
            "----------\n",
            "train loss: 1.6243\n",
            "val loss: 1.6148\n",
            "\n",
            "Epoch 12/19\n",
            "----------\n",
            "train loss: 1.6212\n",
            "val loss: 1.6130\n",
            "\n",
            "Epoch 13/19\n",
            "----------\n",
            "train loss: 1.6201\n",
            "val loss: 1.6100\n",
            "\n",
            "Epoch 14/19\n",
            "----------\n",
            "train loss: 1.6163\n",
            "val loss: 1.6072\n",
            "\n",
            "Epoch 15/19\n",
            "----------\n",
            "train loss: 1.6133\n",
            "val loss: 1.6053\n",
            "\n",
            "Epoch 16/19\n",
            "----------\n",
            "train loss: 1.6109\n",
            "val loss: 1.6017\n",
            "\n",
            "Epoch 17/19\n",
            "----------\n",
            "train loss: 1.6076\n",
            "val loss: 1.6001\n",
            "\n",
            "Epoch 18/19\n",
            "----------\n",
            "train loss: 1.6038\n",
            "val loss: 1.5980\n",
            "\n",
            "Epoch 19/19\n",
            "----------\n",
            "train loss: 1.6001\n",
            "val loss: 1.5900\n",
            "\n",
            "Training complete in 14m 16s\n",
            "Best validation loss: 1.460938\n"
          ]
        }
      ]
    },
    {
      "cell_type": "code",
      "source": [
        "# set the model in the evaluation model\n",
        "model.eval()\n",
        "\n",
        "# load testing image IDs\n",
        "test_img_ids = json.load(open('./ids_demo.json'))['test']\n",
        "\n",
        "# load one sample image\n",
        "test_img_id = test_img_ids[random.randrange(len(test_img_ids))]\n",
        "test_img = cv2.imread('./images/{}.png'.format(test_img_id))\n",
        "\n",
        "# apply data transformation ToTensor() and send the image to gpu if available\n",
        "transformed_test_img = data_transforms(test_img)\n",
        "transformed_test_img = transformed_test_img.to(device)\n",
        "\n",
        "# turn of the gradient computation and make prediction\n",
        "with torch.no_grad():\n",
        "  prediction = model([transformed_test_img])\n",
        "\n",
        "# keep boxes with scores >= 0.5\n",
        "boxes = prediction[0][\"boxes\"]\n",
        "scores = prediction[0][\"scores\"]\n",
        "boxes = boxes[scores >= 0.5, :]\n",
        "print(scores)\n",
        "\n",
        "# box format transformation\n",
        "boxes[:, 2] = boxes[:, 2] - boxes[:, 0]\n",
        "boxes[:, 3] = boxes[:, 3] - boxes[:, 1]\n",
        "\n",
        "# plot image\n",
        "print(\"image id: {}\".format(test_img_id))\n",
        "imshow(test_img, boxes)"
      ],
      "metadata": {
        "colab": {
          "base_uri": "https://localhost:8080/",
          "height": 284
        },
        "id": "Z6KmdczB-_ab",
        "outputId": "7848961b-16ae-4069-dce8-d357c8a4a3eb"
      },
      "execution_count": 13,
      "outputs": [
        {
          "output_type": "stream",
          "name": "stdout",
          "text": [
            "tensor([], device='cuda:0')\n",
            "image id: 016330\n"
          ]
        },
        {
          "output_type": "display_data",
          "data": {
            "text/plain": [
              "<Figure size 432x288 with 1 Axes>"
            ],
            "image/png": "[encoded data removed]"
          },
          "metadata": {
            "needs_background": "light"
          }
        }
      ]
    },
    {
      "cell_type": "code",
      "source": [
        "# set the model in evaluation model                                \n",
        "model.eval()\n",
        "\n",
        "# load image IDs of the validation set\n",
        "val_img_ids = json.load(open('./ids_demo.json'))['val']\n",
        "detection_results = {}\n",
        "\n",
        "# iterate over the validation set\n",
        "for img_id in val_img_ids:\n",
        "  val_img = cv2.imread('./images/{}.png'.format(img_id))\n",
        "  # apply data transformation ToTensor() and send the image to gpu if available\n",
        "  transformed_val_img = data_transforms(val_img)\n",
        "  transformed_val_img = transformed_val_img.to(device)\n",
        "  # turn of the gradient computation and make prediction\n",
        "  with torch.no_grad():\n",
        "    prediction = model([transformed_val_img])\n",
        "\n",
        "  # box format transformation\n",
        "  boxes = prediction[0][\"boxes\"]\n",
        "  boxes[:, 2] = boxes[:, 2] - boxes[:, 0]\n",
        "  boxes[:, 3] = boxes[:, 3] - boxes[:, 1]\n",
        "  scores = prediction[0][\"scores\"]\n",
        "  scores = torch.reshape(scores, (-1,1))\n",
        "  # concatenate boxes and scores\n",
        "  # the result format is [xmin, ymin, width, height, score]\n",
        "  boxes_scores = torch.cat((boxes, scores), dim=1)\n",
        "  # transfer to list and store in the dictionary \n",
        "  boxes_scores = boxes_scores.cpu().numpy().tolist()\n",
        "  detection_results[img_id] = boxes_scores\n"
      ],
      "metadata": {
        "id": "dotZRUsT-_di"
      },
      "execution_count": 14,
      "outputs": []
    },
    {
      "cell_type": "code",
      "source": [
        "# import evaluate function\n",
        "import sys\n",
        "from evaluate import evaluate\n",
        "\n",
        "print('evaluation metrics: ')\n",
        "metrics = evaluate(detection_results, val_img_ids)\n",
        "print()\n",
        "print('the list of evaluation values: {}'.format(metrics))"
      ],
      "metadata": {
        "colab": {
          "base_uri": "https://localhost:8080/"
        },
        "id": "ySSkot__F3Oj",
        "outputId": "9b093911-69e9-4c7d-fb1d-17be2d06fa6a"
      },
      "execution_count": 15,
      "outputs": [
        {
          "output_type": "stream",
          "name": "stdout",
          "text": [
            "evaluation metrics: \n",
            "loading annotations into memory...\n",
            "Done (t=0.73s)\n",
            "creating index...\n",
            "index created!\n",
            "Loading and preparing results...\n",
            "DONE (t=0.01s)\n",
            "creating index...\n",
            "index created!\n",
            "Running per image evaluation...\n",
            "Evaluate annotation type *bbox*\n",
            "DONE (t=0.28s).\n",
            "Accumulating evaluation results...\n",
            "DONE (t=0.03s).\n",
            " Average Precision  (AP) @[ IoU=0.50:0.95 | area=   all | maxDets=100 ] = 0.000\n",
            " Average Precision  (AP) @[ IoU=0.50      | area=   all | maxDets=100 ] = 0.000\n",
            " Average Precision  (AP) @[ IoU=0.75      | area=   all | maxDets=100 ] = 0.000\n",
            " Average Precision  (AP) @[ IoU=0.50:0.95 | area= small | maxDets=100 ] = 0.005\n",
            " Average Precision  (AP) @[ IoU=0.50:0.95 | area=medium | maxDets=100 ] = 0.000\n",
            " Average Precision  (AP) @[ IoU=0.50:0.95 | area= large | maxDets=100 ] = 0.000\n",
            " Average Recall     (AR) @[ IoU=0.50:0.95 | area=   all | maxDets=  1 ] = 0.001\n",
            " Average Recall     (AR) @[ IoU=0.50:0.95 | area=   all | maxDets= 10 ] = 0.004\n",
            " Average Recall     (AR) @[ IoU=0.50:0.95 | area=   all | maxDets=100 ] = 0.009\n",
            " Average Recall     (AR) @[ IoU=0.50:0.95 | area= small | maxDets=100 ] = 0.004\n",
            " Average Recall     (AR) @[ IoU=0.50:0.95 | area=medium | maxDets=100 ] = 0.015\n",
            " Average Recall     (AR) @[ IoU=0.50:0.95 | area= large | maxDets=100 ] = 0.000\n",
            "\n",
            "the list of evaluation values: [4.49194781e-05 2.33339318e-04 0.00000000e+00 4.95049505e-03\n",
            " 4.72649261e-05 0.00000000e+00 1.44927536e-03 3.98550725e-03\n",
            " 8.69565217e-03 3.57142857e-03 1.49606299e-02 0.00000000e+00]\n"
          ]
        }
      ]
    },
    {
      "cell_type": "code",
      "source": [
        "# set the model in evaluation model                                \n",
        "model.eval()\n",
        "# load image IDs of the testing set\n",
        "test_img_ids = json.load(open('./ids_demo.json'))['test']\n",
        "detection_results = {}\n",
        "\n",
        "# iterate over the testing set\n",
        "for img_id in test_img_ids:\n",
        "  test_img = cv2.imread('./images/{}.png'.format(img_id))\n",
        "  # apply data transformation ToTensor() and send the image to gpu if available\n",
        "  transformed_test_img = data_transforms(test_img)\n",
        "  transformed_test_img = transformed_test_img.to(device)\n",
        "  # turn of the gradient computation and make prediction\n",
        "  with torch.no_grad():\n",
        "    prediction = model([transformed_test_img])\n",
        "\n",
        "  # box format transformation\n",
        "  boxes = prediction[0][\"boxes\"]\n",
        "  boxes[:, 2] = boxes[:, 2] - boxes[:, 0]\n",
        "  boxes[:, 3] = boxes[:, 3] - boxes[:, 1]\n",
        "  scores = prediction[0][\"scores\"]\n",
        "  scores = torch.reshape(scores, (-1,1))\n",
        "  # concatenate boxes and scores\n",
        "  # the result format is [xmin, ymin, width, height, score]\n",
        "  boxes_scores = torch.cat((boxes, scores), dim=1)\n",
        "  # transfer to list and store in the dictionary \n",
        "  boxes_scores = boxes_scores.cpu().numpy().tolist()\n",
        "  detection_results[img_id] = boxes_scores\n",
        "\n",
        "# save the result to file\n",
        "with open('detection_results.json', 'w') as f:\n",
        "  json.dump(detection_results, f)\n",
        "\n",
        "# zip the result\n",
        "!zip detection_results.zip detection_results.json"
      ],
      "metadata": {
        "colab": {
          "base_uri": "https://localhost:8080/"
        },
        "id": "WlA-QzaH-_hE",
        "outputId": "d6641da3-99d1-4b80-d596-ed45c2e6b80a"
      },
      "execution_count": 16,
      "outputs": [
        {
          "output_type": "stream",
          "name": "stdout",
          "text": [
            "  adding: detection_results.json (deflated 65%)\n"
          ]
        }
      ]
    },
    {
      "cell_type": "code",
      "source": [
        ""
      ],
      "metadata": {
        "id": "f3uLhmIk-_pQ"
      },
      "execution_count": null,
      "outputs": []
    }
  ]
}